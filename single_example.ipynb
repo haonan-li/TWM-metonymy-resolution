{
 "cells": [
  {
   "cell_type": "markdown",
   "metadata": {},
   "source": [
    "# Metonymy Resolution\n",
    "\n",
    "### What is Metonymy?\n",
    "A figure of speech in which a thing or concept is referred to by the name of something closely associated with that thing or concept.\n",
    "* He is reading <span style=\"color:red\">Shakespeare</span>.\n",
    "* <span style=\"color:red\">Moscow</span> talks to <span style=\"color:red\">Beijing</span>.\n",
    "\n",
    "### Metonymy resolution\n",
    "Determining whether a potentially metonymic word (PMW) in a given context is used metonymically or not!\n",
    "\n",
    "### Location metonymy \n",
    "13–20% locations are used metonymically.\n",
    "Our model: 90% accuracy."
   ]
  },
  {
   "cell_type": "markdown",
   "metadata": {},
   "source": [
    "## Build Enviroment"
   ]
  },
  {
   "cell_type": "code",
   "execution_count": 92,
   "metadata": {
    "scrolled": true
   },
   "outputs": [],
   "source": [
    "!pip install -r requirements.txt"
   ]
  },
  {
   "cell_type": "markdown",
   "metadata": {},
   "source": [
    "# Train a model\n",
    "\n",
    "To train a model you should specify the arguments, for example:\n",
    "\n",
    "```bash\n",
    "python run_metonymy_resolution.py \\\n",
    "--data_dir ../data \\\n",
    "--train_file conll_train.json \\\n",
    "--predict_file conll_test.json \\\n",
    "--output_dir ../output \\\n",
    "--do_train  \\\n",
    "--do_eval \\\n",
    "--do_mask\n",
    "```\n",
    "\n",
    "# You can also use our pretrained model\n",
    "\n",
    "Download from, https://drive.google.com/file/d/1jj8cYrVLUlp1j9kHJ7nXKvP8ay5IsF4c/view?usp=sharing\n",
    "\n",
    "Unzip and put it to ``model_folder`` (you local path).\n",
    "\n",
    "This is a pretrained bert-base-uncased model, use ./data/conll_train.json."
   ]
  },
  {
   "cell_type": "markdown",
   "metadata": {},
   "source": [
    "# Load pretrained model from ``model_folder``"
   ]
  },
  {
   "cell_type": "code",
   "execution_count": 2,
   "metadata": {},
   "outputs": [],
   "source": [
    "import numpy as np\n",
    "import sys\n",
    "sys.path.append(\"./src\")\n",
    "from utils_metonymy import *\n",
    "\n",
    "model_class = BertForWordClassification\n",
    "tokenizer_class = BertTokenizer"
   ]
  },
  {
   "cell_type": "code",
   "execution_count": 3,
   "metadata": {},
   "outputs": [],
   "source": [
    "model_folder = './output' # specify which dir the model been saved.\n",
    "\n",
    "model = model_class.from_pretrained(model_folder)\n",
    "tokenizer = tokenizer_class.from_pretrained(model_folder, do_lower_case=True)"
   ]
  },
  {
   "cell_type": "code",
   "execution_count": 4,
   "metadata": {
    "scrolled": true
   },
   "outputs": [],
   "source": [
    "def single_detect(example):\n",
    "    tgt_word = \" \".join(example[\"sentence\"][example[\"pos\"][0]:example[\"pos\"][1]])\n",
    "    sent = \" \".join(example[\"sentence\"])\n",
    "    tmp = copy.deepcopy(example)\n",
    "    inputs = convert_single_example_to_input(tmp, tokenizer)\n",
    "    \n",
    "    model.zero_grad()\n",
    "    model.eval()\n",
    "\n",
    "    logits = model(**inputs)[0]\n",
    "\n",
    "    preds = logits.detach().cpu().numpy()\n",
    "    preds = np.argmax(preds, axis=1)\n",
    "\n",
    "    label_map = {0:'literal',1:'metonymy'}\n",
    "    \n",
    "    print(f'------------------------------')\n",
    "    print(f'Target word:   {tgt_word}')\n",
    "    print(f'Sentence:      {sent}')\n",
    "    print(f'Prediction:    {label_map[preds[0]]}')"
   ]
  },
  {
   "cell_type": "markdown",
   "metadata": {},
   "source": [
    "# TWM Metonymy Resolution"
   ]
  },
  {
   "cell_type": "code",
   "execution_count": 5,
   "metadata": {},
   "outputs": [
    {
     "name": "stderr",
     "output_type": "stream",
     "text": [
      "Truncation was not explicitely activated but `max_length` is provided a specific value, please use `truncation=True` to explicitely truncate examples to max length. Defaulting to 'longest_first' truncation strategy. If you encode pairs of sequences (GLUE-style) with the tokenizer you can select this strategy more precisely by providing a specific strategy to `truncation`.\n"
     ]
    },
    {
     "name": "stdout",
     "output_type": "stream",
     "text": [
      "------------------------------\n",
      "Target word:   Romania\n",
      "Sentence:      SOCCER - Romania beat Lithuania in under-21 match.\n",
      "Prediction:    metonymy\n"
     ]
    }
   ],
   "source": [
    "example = {'sentence': ['SOCCER', '-', 'Romania', 'beat', 'Lithuania', 'in', 'under-21', 'match.'],\n",
    "           'pos': [2, 3]}\n",
    "single_detect(example)"
   ]
  },
  {
   "cell_type": "markdown",
   "metadata": {},
   "source": [
    "# End-to-End Metonymy Resolution"
   ]
  },
  {
   "cell_type": "code",
   "execution_count": 6,
   "metadata": {},
   "outputs": [
    {
     "name": "stdout",
     "output_type": "stream",
     "text": [
      "Requirement already up-to-date: spacy in /Users/lihaonan/miniconda3/lib/python3.8/site-packages (3.4.1)\n",
      "Requirement already satisfied, skipping upgrade: packaging>=20.0 in /Users/lihaonan/miniconda3/lib/python3.8/site-packages (from spacy) (20.7)\n",
      "Requirement already satisfied, skipping upgrade: requests<3.0.0,>=2.13.0 in /Users/lihaonan/miniconda3/lib/python3.8/site-packages (from spacy) (2.22.0)\n",
      "Requirement already satisfied, skipping upgrade: tqdm<5.0.0,>=4.38.0 in /Users/lihaonan/miniconda3/lib/python3.8/site-packages (from spacy) (4.51.0)\n",
      "Requirement already satisfied, skipping upgrade: setuptools in /Users/lihaonan/miniconda3/lib/python3.8/site-packages (from spacy) (50.3.1.post20201107)\n",
      "Requirement already satisfied, skipping upgrade: jinja2 in /Users/lihaonan/miniconda3/lib/python3.8/site-packages (from spacy) (2.11.2)\n",
      "Requirement already satisfied, skipping upgrade: cymem<2.1.0,>=2.0.2 in /Users/lihaonan/miniconda3/lib/python3.8/site-packages (from spacy) (2.0.6)\n",
      "Requirement already satisfied, skipping upgrade: typer<0.5.0,>=0.3.0 in /Users/lihaonan/miniconda3/lib/python3.8/site-packages (from spacy) (0.4.2)\n",
      "Requirement already satisfied, skipping upgrade: numpy>=1.15.0 in /Users/lihaonan/miniconda3/lib/python3.8/site-packages (from spacy) (1.19.4)\n",
      "Requirement already satisfied, skipping upgrade: pydantic!=1.8,!=1.8.1,<1.10.0,>=1.7.4 in /Users/lihaonan/miniconda3/lib/python3.8/site-packages (from spacy) (1.9.1)\n",
      "Requirement already satisfied, skipping upgrade: wasabi<1.1.0,>=0.9.1 in /Users/lihaonan/miniconda3/lib/python3.8/site-packages (from spacy) (0.10.1)\n",
      "Requirement already satisfied, skipping upgrade: langcodes<4.0.0,>=3.2.0 in /Users/lihaonan/miniconda3/lib/python3.8/site-packages (from spacy) (3.3.0)\n",
      "Requirement already satisfied, skipping upgrade: thinc<8.2.0,>=8.1.0 in /Users/lihaonan/miniconda3/lib/python3.8/site-packages (from spacy) (8.1.0)\n",
      "Requirement already satisfied, skipping upgrade: pathy>=0.3.5 in /Users/lihaonan/miniconda3/lib/python3.8/site-packages (from spacy) (0.6.2)\n",
      "Requirement already satisfied, skipping upgrade: spacy-legacy<3.1.0,>=3.0.9 in /Users/lihaonan/miniconda3/lib/python3.8/site-packages (from spacy) (3.0.9)\n",
      "Requirement already satisfied, skipping upgrade: catalogue<2.1.0,>=2.0.6 in /Users/lihaonan/miniconda3/lib/python3.8/site-packages (from spacy) (2.0.8)\n",
      "Requirement already satisfied, skipping upgrade: murmurhash<1.1.0,>=0.28.0 in /Users/lihaonan/miniconda3/lib/python3.8/site-packages (from spacy) (1.0.7)\n",
      "Requirement already satisfied, skipping upgrade: preshed<3.1.0,>=3.0.2 in /Users/lihaonan/miniconda3/lib/python3.8/site-packages (from spacy) (3.0.6)\n",
      "Requirement already satisfied, skipping upgrade: spacy-loggers<2.0.0,>=1.0.0 in /Users/lihaonan/miniconda3/lib/python3.8/site-packages (from spacy) (1.0.3)\n",
      "Requirement already satisfied, skipping upgrade: srsly<3.0.0,>=2.4.3 in /Users/lihaonan/miniconda3/lib/python3.8/site-packages (from spacy) (2.4.4)\n",
      "Requirement already satisfied, skipping upgrade: pyparsing>=2.0.2 in /Users/lihaonan/miniconda3/lib/python3.8/site-packages (from packaging>=20.0->spacy) (2.4.7)\n",
      "Requirement already satisfied, skipping upgrade: certifi>=2017.4.17 in /Users/lihaonan/miniconda3/lib/python3.8/site-packages (from requests<3.0.0,>=2.13.0->spacy) (2020.6.20)\n",
      "Requirement already satisfied, skipping upgrade: urllib3!=1.25.0,!=1.25.1,<1.26,>=1.21.1 in /Users/lihaonan/miniconda3/lib/python3.8/site-packages (from requests<3.0.0,>=2.13.0->spacy) (1.25.11)\n",
      "Requirement already satisfied, skipping upgrade: idna<2.9,>=2.5 in /Users/lihaonan/miniconda3/lib/python3.8/site-packages (from requests<3.0.0,>=2.13.0->spacy) (2.6)\n",
      "Requirement already satisfied, skipping upgrade: chardet<3.1.0,>=3.0.2 in /Users/lihaonan/miniconda3/lib/python3.8/site-packages (from requests<3.0.0,>=2.13.0->spacy) (3.0.4)\n",
      "Requirement already satisfied, skipping upgrade: MarkupSafe>=0.23 in /Users/lihaonan/miniconda3/lib/python3.8/site-packages (from jinja2->spacy) (1.1.1)\n",
      "Requirement already satisfied, skipping upgrade: click<9.0.0,>=7.1.1 in /Users/lihaonan/miniconda3/lib/python3.8/site-packages (from typer<0.5.0,>=0.3.0->spacy) (8.1.3)\n",
      "Requirement already satisfied, skipping upgrade: typing-extensions>=3.7.4.3 in /Users/lihaonan/miniconda3/lib/python3.8/site-packages (from pydantic!=1.8,!=1.8.1,<1.10.0,>=1.7.4->spacy) (4.3.0)\n",
      "Requirement already satisfied, skipping upgrade: blis<0.8.0,>=0.7.8 in /Users/lihaonan/miniconda3/lib/python3.8/site-packages (from thinc<8.2.0,>=8.1.0->spacy) (0.7.8)\n",
      "Requirement already satisfied, skipping upgrade: smart-open<6.0.0,>=5.2.1 in /Users/lihaonan/miniconda3/lib/python3.8/site-packages (from pathy>=0.3.5->spacy) (5.2.1)\n",
      "Requirement already satisfied: en-core-web-sm==3.4.0 from https://github.com/explosion/spacy-models/releases/download/en_core_web_sm-3.4.0/en_core_web_sm-3.4.0-py3-none-any.whl#egg=en_core_web_sm==3.4.0 in /Users/lihaonan/miniconda3/lib/python3.8/site-packages (3.4.0)\n",
      "Requirement already satisfied: spacy<3.5.0,>=3.4.0 in /Users/lihaonan/miniconda3/lib/python3.8/site-packages (from en-core-web-sm==3.4.0) (3.4.1)\n",
      "Requirement already satisfied: langcodes<4.0.0,>=3.2.0 in /Users/lihaonan/miniconda3/lib/python3.8/site-packages (from spacy<3.5.0,>=3.4.0->en-core-web-sm==3.4.0) (3.3.0)\n",
      "Requirement already satisfied: pydantic!=1.8,!=1.8.1,<1.10.0,>=1.7.4 in /Users/lihaonan/miniconda3/lib/python3.8/site-packages (from spacy<3.5.0,>=3.4.0->en-core-web-sm==3.4.0) (1.9.1)\n",
      "Requirement already satisfied: spacy-loggers<2.0.0,>=1.0.0 in /Users/lihaonan/miniconda3/lib/python3.8/site-packages (from spacy<3.5.0,>=3.4.0->en-core-web-sm==3.4.0) (1.0.3)\n",
      "Requirement already satisfied: jinja2 in /Users/lihaonan/miniconda3/lib/python3.8/site-packages (from spacy<3.5.0,>=3.4.0->en-core-web-sm==3.4.0) (2.11.2)\n",
      "Requirement already satisfied: preshed<3.1.0,>=3.0.2 in /Users/lihaonan/miniconda3/lib/python3.8/site-packages (from spacy<3.5.0,>=3.4.0->en-core-web-sm==3.4.0) (3.0.6)\n",
      "Requirement already satisfied: packaging>=20.0 in /Users/lihaonan/miniconda3/lib/python3.8/site-packages (from spacy<3.5.0,>=3.4.0->en-core-web-sm==3.4.0) (20.7)\n",
      "Requirement already satisfied: typer<0.5.0,>=0.3.0 in /Users/lihaonan/miniconda3/lib/python3.8/site-packages (from spacy<3.5.0,>=3.4.0->en-core-web-sm==3.4.0) (0.4.2)\n",
      "Requirement already satisfied: murmurhash<1.1.0,>=0.28.0 in /Users/lihaonan/miniconda3/lib/python3.8/site-packages (from spacy<3.5.0,>=3.4.0->en-core-web-sm==3.4.0) (1.0.7)\n",
      "Requirement already satisfied: setuptools in /Users/lihaonan/miniconda3/lib/python3.8/site-packages (from spacy<3.5.0,>=3.4.0->en-core-web-sm==3.4.0) (50.3.1.post20201107)\n",
      "Requirement already satisfied: catalogue<2.1.0,>=2.0.6 in /Users/lihaonan/miniconda3/lib/python3.8/site-packages (from spacy<3.5.0,>=3.4.0->en-core-web-sm==3.4.0) (2.0.8)\n",
      "Requirement already satisfied: numpy>=1.15.0 in /Users/lihaonan/miniconda3/lib/python3.8/site-packages (from spacy<3.5.0,>=3.4.0->en-core-web-sm==3.4.0) (1.19.4)\n",
      "Requirement already satisfied: cymem<2.1.0,>=2.0.2 in /Users/lihaonan/miniconda3/lib/python3.8/site-packages (from spacy<3.5.0,>=3.4.0->en-core-web-sm==3.4.0) (2.0.6)\n",
      "Requirement already satisfied: requests<3.0.0,>=2.13.0 in /Users/lihaonan/miniconda3/lib/python3.8/site-packages (from spacy<3.5.0,>=3.4.0->en-core-web-sm==3.4.0) (2.22.0)\n",
      "Requirement already satisfied: pathy>=0.3.5 in /Users/lihaonan/miniconda3/lib/python3.8/site-packages (from spacy<3.5.0,>=3.4.0->en-core-web-sm==3.4.0) (0.6.2)\n",
      "Requirement already satisfied: tqdm<5.0.0,>=4.38.0 in /Users/lihaonan/miniconda3/lib/python3.8/site-packages (from spacy<3.5.0,>=3.4.0->en-core-web-sm==3.4.0) (4.51.0)\n",
      "Requirement already satisfied: thinc<8.2.0,>=8.1.0 in /Users/lihaonan/miniconda3/lib/python3.8/site-packages (from spacy<3.5.0,>=3.4.0->en-core-web-sm==3.4.0) (8.1.0)\n",
      "Requirement already satisfied: wasabi<1.1.0,>=0.9.1 in /Users/lihaonan/miniconda3/lib/python3.8/site-packages (from spacy<3.5.0,>=3.4.0->en-core-web-sm==3.4.0) (0.10.1)\n",
      "Requirement already satisfied: srsly<3.0.0,>=2.4.3 in /Users/lihaonan/miniconda3/lib/python3.8/site-packages (from spacy<3.5.0,>=3.4.0->en-core-web-sm==3.4.0) (2.4.4)\n",
      "Requirement already satisfied: spacy-legacy<3.1.0,>=3.0.9 in /Users/lihaonan/miniconda3/lib/python3.8/site-packages (from spacy<3.5.0,>=3.4.0->en-core-web-sm==3.4.0) (3.0.9)\n",
      "Requirement already satisfied: typing-extensions>=3.7.4.3 in /Users/lihaonan/miniconda3/lib/python3.8/site-packages (from pydantic!=1.8,!=1.8.1,<1.10.0,>=1.7.4->spacy<3.5.0,>=3.4.0->en-core-web-sm==3.4.0) (4.3.0)\n",
      "Requirement already satisfied: MarkupSafe>=0.23 in /Users/lihaonan/miniconda3/lib/python3.8/site-packages (from jinja2->spacy<3.5.0,>=3.4.0->en-core-web-sm==3.4.0) (1.1.1)\n",
      "Requirement already satisfied: pyparsing>=2.0.2 in /Users/lihaonan/miniconda3/lib/python3.8/site-packages (from packaging>=20.0->spacy<3.5.0,>=3.4.0->en-core-web-sm==3.4.0) (2.4.7)\n",
      "Requirement already satisfied: click<9.0.0,>=7.1.1 in /Users/lihaonan/miniconda3/lib/python3.8/site-packages (from typer<0.5.0,>=0.3.0->spacy<3.5.0,>=3.4.0->en-core-web-sm==3.4.0) (8.1.3)\n",
      "Requirement already satisfied: certifi>=2017.4.17 in /Users/lihaonan/miniconda3/lib/python3.8/site-packages (from requests<3.0.0,>=2.13.0->spacy<3.5.0,>=3.4.0->en-core-web-sm==3.4.0) (2020.6.20)\n",
      "Requirement already satisfied: idna<2.9,>=2.5 in /Users/lihaonan/miniconda3/lib/python3.8/site-packages (from requests<3.0.0,>=2.13.0->spacy<3.5.0,>=3.4.0->en-core-web-sm==3.4.0) (2.6)\n",
      "Requirement already satisfied: chardet<3.1.0,>=3.0.2 in /Users/lihaonan/miniconda3/lib/python3.8/site-packages (from requests<3.0.0,>=2.13.0->spacy<3.5.0,>=3.4.0->en-core-web-sm==3.4.0) (3.0.4)\n",
      "Requirement already satisfied: urllib3!=1.25.0,!=1.25.1,<1.26,>=1.21.1 in /Users/lihaonan/miniconda3/lib/python3.8/site-packages (from requests<3.0.0,>=2.13.0->spacy<3.5.0,>=3.4.0->en-core-web-sm==3.4.0) (1.25.11)\n"
     ]
    },
    {
     "name": "stdout",
     "output_type": "stream",
     "text": [
      "Requirement already satisfied: smart-open<6.0.0,>=5.2.1 in /Users/lihaonan/miniconda3/lib/python3.8/site-packages (from pathy>=0.3.5->spacy<3.5.0,>=3.4.0->en-core-web-sm==3.4.0) (5.2.1)\n",
      "Requirement already satisfied: blis<0.8.0,>=0.7.8 in /Users/lihaonan/miniconda3/lib/python3.8/site-packages (from thinc<8.2.0,>=8.1.0->spacy<3.5.0,>=3.4.0->en-core-web-sm==3.4.0) (0.7.8)\n",
      "\u001b[38;5;2m✔ Download and installation successful\u001b[0m\n",
      "You can now load the package via spacy.load('en_core_web_sm')\n"
     ]
    }
   ],
   "source": [
    "!pip install -U spacy\n",
    "!python -m spacy download en_core_web_sm"
   ]
  },
  {
   "cell_type": "code",
   "execution_count": 7,
   "metadata": {},
   "outputs": [],
   "source": [
    "import spacy\n",
    "nlp = spacy.load(\"en_core_web_sm\")"
   ]
  },
  {
   "cell_type": "code",
   "execution_count": 8,
   "metadata": {},
   "outputs": [],
   "source": [
    "def end2end_detect(sentence):\n",
    "    tokens = nlp(sentence)\n",
    "    pos = [-1,-1]\n",
    "    examples = []\n",
    "    token_text = list(map(lambda x: x.text, tokens))\n",
    "    for i,token in enumerate(tokens):\n",
    "        if token.ent_iob_ == 'O':\n",
    "            if pos == [-1, -1]:\n",
    "                continue\n",
    "            else:\n",
    "                pos[1] = i\n",
    "                examples.append({'sentence': token_text, 'pos': pos})\n",
    "                pos = [-1,-1]\n",
    "        elif token.ent_iob_ == 'B' and token.ent_type_ == 'GPE':\n",
    "            pos = [i,i]\n",
    "        elif token.ent_iob_ == 'I' and token.ent_type_ == 'GPE':\n",
    "            pos[1] = i\n",
    "            \n",
    "    for example in examples:\n",
    "        single_detect(example)"
   ]
  },
  {
   "cell_type": "code",
   "execution_count": 9,
   "metadata": {
    "scrolled": true
   },
   "outputs": [
    {
     "name": "stdout",
     "output_type": "stream",
     "text": [
      "------------------------------\n",
      "Target word:   Los Angeles\n",
      "Sentence:      Los Angeles lost in the semi - final .\n",
      "Prediction:    metonymy\n"
     ]
    }
   ],
   "source": [
    "sentence = \"Los Angeles lost in the semi-final.\"\n",
    "end2end_detect(sentence)"
   ]
  },
  {
   "cell_type": "code",
   "execution_count": 10,
   "metadata": {},
   "outputs": [
    {
     "name": "stdout",
     "output_type": "stream",
     "text": [
      "------------------------------\n",
      "Target word:   Moscow\n",
      "Sentence:      Moscow talks to Beijing .\n",
      "Prediction:    metonymy\n",
      "------------------------------\n",
      "Target word:   Beijing\n",
      "Sentence:      Moscow talks to Beijing .\n",
      "Prediction:    metonymy\n"
     ]
    }
   ],
   "source": [
    "sentence = \"Moscow talks to Beijing.\"\n",
    "end2end_detect(sentence)"
   ]
  },
  {
   "cell_type": "code",
   "execution_count": 90,
   "metadata": {},
   "outputs": [
    {
     "name": "stdout",
     "output_type": "stream",
     "text": [
      "------------------------------\n",
      "Target word:   Germany\n",
      "Sentence:      I used to live in Germany .\n",
      "Prediction:    literal\n"
     ]
    }
   ],
   "source": [
    "sentence = \"I used to live in Germany.\"\n",
    "end2end_detect(sentence)"
   ]
  },
  {
   "cell_type": "code",
   "execution_count": null,
   "metadata": {},
   "outputs": [],
   "source": []
  }
 ],
 "metadata": {
  "kernelspec": {
   "display_name": "Python 3",
   "language": "python",
   "name": "python3"
  },
  "language_info": {
   "codemirror_mode": {
    "name": "ipython",
    "version": 3
   },
   "file_extension": ".py",
   "mimetype": "text/x-python",
   "name": "python",
   "nbconvert_exporter": "python",
   "pygments_lexer": "ipython3",
   "version": "3.8.5"
  }
 },
 "nbformat": 4,
 "nbformat_minor": 2
}
